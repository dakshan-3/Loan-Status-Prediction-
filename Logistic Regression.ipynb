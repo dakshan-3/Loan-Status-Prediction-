{
  "nbformat": 4,
  "nbformat_minor": 0,
  "metadata": {
    "colab": {
      "name": "Untitled2.ipynb",
      "provenance": [],
      "authorship_tag": "ABX9TyPUlrMvhX7QGe8nQjuKgWWx",
      "include_colab_link": true
    },
    "kernelspec": {
      "name": "python3",
      "display_name": "Python 3"
    }
  },
  "cells": [
    {
      "cell_type": "markdown",
      "metadata": {
        "id": "view-in-github",
        "colab_type": "text"
      },
      "source": [
        "<a href=\"https://colab.research.google.com/github/Vinayvarma03/Loan-Prediction-using-Regression/blob/main/Logistic%20Regression.ipynb\" target=\"_parent\"><img src=\"https://colab.research.google.com/assets/colab-badge.svg\" alt=\"Open In Colab\"/></a>"
      ]
    },
    {
      "cell_type": "code",
      "metadata": {
        "id": "n_RRLUdPuEFV"
      },
      "source": [
        "#Import packages\r\n",
        "import pandas as pd\r\n",
        "import numpy as np\r\n",
        "import matplotlib.pyplot as plt\r\n",
        "from sklearn.linear_model import LogisticRegression\r\n",
        "from sklearn.metrics import roc_auc_score\r\n",
        "from sklearn.metrics import roc_curve"
      ],
      "execution_count": 1,
      "outputs": []
    },
    {
      "cell_type": "code",
      "metadata": {
        "colab": {
          "base_uri": "https://localhost:8080/"
        },
        "id": "-wp9ChKxuW6m",
        "outputId": "65a1c983-722f-46f1-e8ca-58a84a7f8397"
      },
      "source": [
        "df=pd.read_csv('https://raw.githubusercontent.com/Vinayvarma03/Loan-Prediction-using-Regression/main/data.csv')\r\n",
        "print(df.head(5))"
      ],
      "execution_count": 2,
      "outputs": [
        {
          "output_type": "stream",
          "text": [
            "    Loan_ID Gender Married  ... Credit_History Property_Area Loan_Status\n",
            "0  LP001002   Male      No  ...            1.0         Urban           Y\n",
            "1  LP001003   Male     Yes  ...            1.0         Rural           N\n",
            "2  LP001005   Male     Yes  ...            1.0         Urban           Y\n",
            "3  LP001006   Male     Yes  ...            1.0         Urban           Y\n",
            "4  LP001008   Male      No  ...            1.0         Urban           Y\n",
            "\n",
            "[5 rows x 13 columns]\n"
          ],
          "name": "stdout"
        }
      ]
    },
    {
      "cell_type": "code",
      "metadata": {
        "colab": {
          "base_uri": "https://localhost:8080/"
        },
        "id": "itNfEMrnukX4",
        "outputId": "93d4c6d0-afea-46b9-b6e7-f5ccd4c433a9"
      },
      "source": [
        "df['Loan_Status']=df['Loan_Status'].replace('Y',1)\r\n",
        "df['Loan_Status']=df['Loan_Status'].replace('N',0)\r\n",
        "print(df['Loan_Status'].head(5))"
      ],
      "execution_count": 3,
      "outputs": [
        {
          "output_type": "stream",
          "text": [
            "0    1\n",
            "1    0\n",
            "2    1\n",
            "3    1\n",
            "4    1\n",
            "Name: Loan_Status, dtype: int64\n"
          ],
          "name": "stdout"
        }
      ]
    },
    {
      "cell_type": "code",
      "metadata": {
        "colab": {
          "base_uri": "https://localhost:8080/"
        },
        "id": "C-crZKQAusRh",
        "outputId": "3b5397c1-5b90-4365-e107-b1f042bbdbc0"
      },
      "source": [
        "df['Self_Employed']=df['Self_Employed'].replace('Yes',1)\r\n",
        "df['Self_Employed']=df['Self_Employed'].replace('No',0)\r\n",
        "print(df['Self_Employed'].head(5))"
      ],
      "execution_count": 4,
      "outputs": [
        {
          "output_type": "stream",
          "text": [
            "0    0.0\n",
            "1    0.0\n",
            "2    1.0\n",
            "3    0.0\n",
            "4    0.0\n",
            "Name: Self_Employed, dtype: float64\n"
          ],
          "name": "stdout"
        }
      ]
    },
    {
      "cell_type": "code",
      "metadata": {
        "colab": {
          "base_uri": "https://localhost:8080/"
        },
        "id": "r6G_fylIuuc6",
        "outputId": "51efee6e-9375-42cb-83e3-c4df92d4f304"
      },
      "source": [
        "df['Education']=df['Education'].replace('Graduate',1)\r\n",
        "df['Education']=df['Education'].replace('Not Graduate',0)\r\n",
        "print(df['Education'].head(5))"
      ],
      "execution_count": 6,
      "outputs": [
        {
          "output_type": "stream",
          "text": [
            "0    1\n",
            "1    1\n",
            "2    1\n",
            "3    0\n",
            "4    1\n",
            "Name: Education, dtype: int64\n"
          ],
          "name": "stdout"
        }
      ]
    },
    {
      "cell_type": "code",
      "metadata": {
        "colab": {
          "base_uri": "https://localhost:8080/"
        },
        "id": "FQ9vyqijuwk6",
        "outputId": "bfe74391-e4e7-4ae7-ed30-8c568d0fe60b"
      },
      "source": [
        "df['Married']=df['Married'].replace('Yes',1)\r\n",
        "df['Married']=df['Married'].replace('No',0)\r\n",
        "print(df['Married'].head(5))"
      ],
      "execution_count": 7,
      "outputs": [
        {
          "output_type": "stream",
          "text": [
            "0    0.0\n",
            "1    1.0\n",
            "2    1.0\n",
            "3    1.0\n",
            "4    0.0\n",
            "Name: Married, dtype: float64\n"
          ],
          "name": "stdout"
        }
      ]
    },
    {
      "cell_type": "code",
      "metadata": {
        "colab": {
          "base_uri": "https://localhost:8080/"
        },
        "id": "i_8y8RfEuzbi",
        "outputId": "685718eb-4cc9-41f9-e68a-673b4447281b"
      },
      "source": [
        "df['Dependents']=df['Dependents'].replace('3+',3)\r\n",
        "print(df['Dependents'].head(10))"
      ],
      "execution_count": 9,
      "outputs": [
        {
          "output_type": "stream",
          "text": [
            "0    0\n",
            "1    1\n",
            "2    0\n",
            "3    0\n",
            "4    0\n",
            "5    2\n",
            "6    0\n",
            "7    3\n",
            "8    2\n",
            "9    1\n",
            "Name: Dependents, dtype: object\n"
          ],
          "name": "stdout"
        }
      ]
    },
    {
      "cell_type": "code",
      "metadata": {
        "colab": {
          "base_uri": "https://localhost:8080/"
        },
        "id": "I_5GFs8Ju1mj",
        "outputId": "03037884-049c-4ff6-8c96-088db38432f9"
      },
      "source": [
        "df.columns"
      ],
      "execution_count": 10,
      "outputs": [
        {
          "output_type": "execute_result",
          "data": {
            "text/plain": [
              "Index(['Loan_ID', 'Gender', 'Married', 'Dependents', 'Education',\n",
              "       'Self_Employed', 'ApplicantIncome', 'CoapplicantIncome', 'LoanAmount',\n",
              "       'Loan_Amount_Term', 'Credit_History', 'Property_Area', 'Loan_Status'],\n",
              "      dtype='object')"
            ]
          },
          "metadata": {
            "tags": []
          },
          "execution_count": 10
        }
      ]
    },
    {
      "cell_type": "code",
      "metadata": {
        "id": "cdfFExppu4rC"
      },
      "source": [
        "df.isnull().sum()\r\n",
        "df=df.fillna(0)"
      ],
      "execution_count": 11,
      "outputs": []
    },
    {
      "cell_type": "code",
      "metadata": {
        "id": "IvtsPfjdu7IJ"
      },
      "source": [
        "x=df.iloc[:,3:11].values\r\n",
        "y=df.iloc[:,12]"
      ],
      "execution_count": 12,
      "outputs": []
    },
    {
      "cell_type": "code",
      "metadata": {
        "id": "IoyXQBuPu9GV"
      },
      "source": [
        "#Creating test and train model\r\n",
        "from sklearn.model_selection import train_test_split\r\n",
        "x_train,x_test,y_train,y_test=train_test_split(x,y,train_size=2/3,random_state=0)"
      ],
      "execution_count": 14,
      "outputs": []
    },
    {
      "cell_type": "code",
      "metadata": {
        "colab": {
          "base_uri": "https://localhost:8080/"
        },
        "id": "lYfwwXpKu_II",
        "outputId": "809fbddd-ab56-48ea-cda3-469d459dd6e5"
      },
      "source": [
        "from sklearn.preprocessing import StandardScaler\r\n",
        "sc=StandardScaler()\r\n",
        "x_train=sc.fit_transform(x_train)\r\n",
        "x_test=sc.transform(x_test)\r\n",
        "print(x_train)"
      ],
      "execution_count": 15,
      "outputs": [
        {
          "output_type": "stream",
          "text": [
            "[[ 2.15219873 -1.89618185  2.4356115  ... -0.12559309  0.32179227\n",
            "   0.56134886]\n",
            " [-0.78196554  0.52737558  2.4356115  ...  0.3153303   0.32179227\n",
            "   0.56134886]\n",
            " [ 2.15219873  0.52737558 -0.41057451 ... -1.16988533 -1.85963928\n",
            "   0.56134886]\n",
            " ...\n",
            " [ 2.15219873  0.52737558 -0.41057451 ...  0.6866342   0.32179227\n",
            "   0.56134886]\n",
            " [-0.78196554 -1.89618185 -0.41057451 ...  0.22250432  0.32179227\n",
            "   0.56134886]\n",
            " [-0.78196554  0.52737558 -0.41057451 ...  0.47777576  0.32179227\n",
            "   0.56134886]]\n"
          ],
          "name": "stdout"
        }
      ]
    },
    {
      "cell_type": "code",
      "metadata": {
        "colab": {
          "base_uri": "https://localhost:8080/"
        },
        "id": "V7z6n9_cvD7-",
        "outputId": "0cbf8799-22bd-4b08-fb9c-5e6dd96d5c93"
      },
      "source": [
        "print(x_test)"
      ],
      "execution_count": 16,
      "outputs": [
        {
          "output_type": "stream",
          "text": [
            "[[-0.78196554  0.52737558  2.4356115  ... -0.65934246  0.32179227\n",
            "   0.56134886]\n",
            " [-0.78196554  0.52737558 -0.41057451 ... -0.33445154  0.32179227\n",
            "   0.56134886]\n",
            " [-0.78196554  0.52737558 -0.41057451 ...  2.12543684  0.32179227\n",
            "   0.56134886]\n",
            " ...\n",
            " [-0.78196554  0.52737558 -0.41057451 ... -1.14667883 -1.85963928\n",
            "   0.56134886]\n",
            " [ 1.17414397 -1.89618185 -0.41057451 ... -1.11186909 -1.85963928\n",
            "  -1.78142342]\n",
            " [-0.78196554  0.52737558 -0.41057451 ...  4.97983562  0.32179227\n",
            "   0.56134886]]\n"
          ],
          "name": "stdout"
        }
      ]
    },
    {
      "cell_type": "code",
      "metadata": {
        "colab": {
          "base_uri": "https://localhost:8080/"
        },
        "id": "Wg1AaIoCvF_7",
        "outputId": "620819e5-c695-46ec-a7a3-42e1844fa7c0"
      },
      "source": [
        "lr=LogisticRegression()\r\n",
        "lr.fit(x_train,y_train)"
      ],
      "execution_count": 17,
      "outputs": [
        {
          "output_type": "execute_result",
          "data": {
            "text/plain": [
              "LogisticRegression(C=1.0, class_weight=None, dual=False, fit_intercept=True,\n",
              "                   intercept_scaling=1, l1_ratio=None, max_iter=100,\n",
              "                   multi_class='auto', n_jobs=None, penalty='l2',\n",
              "                   random_state=None, solver='lbfgs', tol=0.0001, verbose=0,\n",
              "                   warm_start=False)"
            ]
          },
          "metadata": {
            "tags": []
          },
          "execution_count": 17
        }
      ]
    },
    {
      "cell_type": "code",
      "metadata": {
        "colab": {
          "base_uri": "https://localhost:8080/"
        },
        "id": "LIPU_4lQvIRd",
        "outputId": "c82cb8c6-29fd-479f-db8f-009bbddb920f"
      },
      "source": [
        "#Predicting the model\r\n",
        "y_predict=lr.predict(x_test)\r\n",
        "print(y_predict)"
      ],
      "execution_count": 18,
      "outputs": [
        {
          "output_type": "stream",
          "text": [
            "[1 1 1 1 1 0 1 1 0 1 1 1 1 1 1 1 0 1 0 0 0 1 1 1 0 1 1 1 0 0 1 1 1 1 1 0 1\n",
            " 1 1 1 1 0 1 1 1 1 1 1 1 1 1 1 1 1 1 0 1 1 1 1 0 1 1 0 1 1 0 1 1 0 0 1 1 1\n",
            " 1 1 0 1 1 0 1 1 1 1 1 0 1 1 1 1 1 1 1 0 1 0 1 1 1 1 1 1 1 1 1 1 1 1 1 1 1\n",
            " 1 1 1 0 0 0 1 1 1 1 0 1 1 0 0 1 1 1 1 1 1 1 1 1 1 1 0 1 1 0 1 0 1 1 1 1 1\n",
            " 0 0 1 1 1 0 1 1 1 1 1 1 1 1 1 1 1 1 1 1 0 1 0 0 1 1 1 1 1 1 1 1 1 1 1 1 1\n",
            " 1 1 1 0 1 1 1 0 1 0 1 1 1 0 1 1 1 1 0 1]\n"
          ],
          "name": "stdout"
        }
      ]
    },
    {
      "cell_type": "code",
      "metadata": {
        "colab": {
          "base_uri": "https://localhost:8080/"
        },
        "id": "XSQESFxwvOBT",
        "outputId": "c5a86c12-3968-44d7-8fae-c3413feeb677"
      },
      "source": [
        "from sklearn.metrics import confusion_matrix\r\n",
        "cf=confusion_matrix(y_test,y_predict)\r\n",
        "print(cf)"
      ],
      "execution_count": 19,
      "outputs": [
        {
          "output_type": "stream",
          "text": [
            "[[ 29  31]\n",
            " [ 13 132]]\n"
          ],
          "name": "stdout"
        }
      ]
    },
    {
      "cell_type": "code",
      "metadata": {
        "colab": {
          "base_uri": "https://localhost:8080/",
          "height": 309
        },
        "id": "2keynH_cvRJV",
        "outputId": "907776fd-f783-48d5-e2b9-81a3a6f4da96"
      },
      "source": [
        "pd.crosstab(df.Education,df.Loan_Status).plot(kind='bar')\r\n",
        "plt.title('Loan Sanction Frequency')\r\n",
        "plt.ylabel('Loans Sanctioned')"
      ],
      "execution_count": 20,
      "outputs": [
        {
          "output_type": "execute_result",
          "data": {
            "text/plain": [
              "Text(0, 0.5, 'Loans Sanctioned')"
            ]
          },
          "metadata": {
            "tags": []
          },
          "execution_count": 20
        },
        {
          "output_type": "display_data",
          "data": {
            "image/png": "[encoded data removed]",
            "text/plain": [
              "<Figure size 432x288 with 1 Axes>"
            ]
          },
          "metadata": {
            "tags": [],
            "needs_background": "light"
          }
        }
      ]
    },
    {
      "cell_type": "code",
      "metadata": {
        "colab": {
          "base_uri": "https://localhost:8080/",
          "height": 310
        },
        "id": "2gzuVGeRvT-D",
        "outputId": "d9be023c-f6e1-4423-ae6c-3db859322808"
      },
      "source": [
        "pd.crosstab(df.Loan_Status,df.Credit_History).plot(kind='bar')\r\n",
        "plt.title('Loan Sanction Frequency (Credits)')\r\n",
        "plt.ylabel('No. of Loans')"
      ],
      "execution_count": 21,
      "outputs": [
        {
          "output_type": "execute_result",
          "data": {
            "text/plain": [
              "Text(0, 0.5, 'No. of Loans')"
            ]
          },
          "metadata": {
            "tags": []
          },
          "execution_count": 21
        },
        {
          "output_type": "display_data",
          "data": {
            "image/png": "[encoded data removed]",
            "text/plain": [
              "<Figure size 432x288 with 1 Axes>"
            ]
          },
          "metadata": {
            "tags": [],
            "needs_background": "light"
          }
        }
      ]
    },
    {
      "cell_type": "code",
      "metadata": {
        "colab": {
          "base_uri": "https://localhost:8080/",
          "height": 296
        },
        "id": "SCpvG_S4vXHr",
        "outputId": "b326c3bb-3d82-4dc6-cf9e-57929b921a25"
      },
      "source": [
        "plt.scatter(df.ApplicantIncome,df.Loan_Status)\r\n",
        "plt.xlabel('Applicant Income')\r\n",
        "plt.ylabel('Loan Status')"
      ],
      "execution_count": 22,
      "outputs": [
        {
          "output_type": "execute_result",
          "data": {
            "text/plain": [
              "Text(0, 0.5, 'Loan Status')"
            ]
          },
          "metadata": {
            "tags": []
          },
          "execution_count": 22
        },
        {
          "output_type": "display_data",
          "data": {
            "image/png": "[encoded data removed]",
            "text/plain": [
              "<Figure size 432x288 with 1 Axes>"
            ]
          },
          "metadata": {
            "tags": [],
            "needs_background": "light"
          }
        }
      ]
    },
    {
      "cell_type": "code",
      "metadata": {
        "colab": {
          "base_uri": "https://localhost:8080/"
        },
        "id": "JiIArJOGvZes",
        "outputId": "ba0dfa6b-8d65-4f13-aba9-26ba7f232a34"
      },
      "source": [
        "fpr,tpr,thresholds=roc_curve(y_test,lr.predict_proba(x_test)[:,1])\r\n",
        "print(fpr)"
      ],
      "execution_count": 23,
      "outputs": [
        {
          "output_type": "stream",
          "text": [
            "[0.         0.         0.         0.03333333 0.03333333 0.05\n",
            " 0.05       0.06666667 0.06666667 0.08333333 0.08333333 0.1\n",
            " 0.1        0.11666667 0.11666667 0.13333333 0.13333333 0.16666667\n",
            " 0.16666667 0.2        0.2        0.21666667 0.21666667 0.23333333\n",
            " 0.23333333 0.25       0.25       0.26666667 0.26666667 0.28333333\n",
            " 0.28333333 0.3        0.3        0.33333333 0.33333333 0.36666667\n",
            " 0.36666667 0.38333333 0.38333333 0.4        0.4        0.41666667\n",
            " 0.41666667 0.43333333 0.43333333 0.45       0.45       0.46666667\n",
            " 0.46666667 0.48333333 0.48333333 0.5        0.5        0.51666667\n",
            " 0.51666667 0.63333333 0.63333333 0.65       0.65       0.66666667\n",
            " 0.66666667 0.73333333 0.73333333 0.76666667 0.76666667 0.8\n",
            " 0.8        0.88333333 0.88333333 0.9        0.9        0.91666667\n",
            " 0.91666667 0.98333333 0.98333333 1.        ]\n"
          ],
          "name": "stdout"
        }
      ]
    },
    {
      "cell_type": "code",
      "metadata": {
        "colab": {
          "base_uri": "https://localhost:8080/"
        },
        "id": "6zKNk5K3vbtz",
        "outputId": "43ec3c2a-c8e1-4442-9522-01cf62174f63"
      },
      "source": [
        "print(tpr)"
      ],
      "execution_count": 24,
      "outputs": [
        {
          "output_type": "stream",
          "text": [
            "[0.         0.00689655 0.0137931  0.0137931  0.02068966 0.02068966\n",
            " 0.02758621 0.02758621 0.10344828 0.10344828 0.13793103 0.13793103\n",
            " 0.14482759 0.14482759 0.16551724 0.16551724 0.17241379 0.17241379\n",
            " 0.22758621 0.22758621 0.28275862 0.28275862 0.30344828 0.30344828\n",
            " 0.33793103 0.33793103 0.34482759 0.34482759 0.35862069 0.35862069\n",
            " 0.39310345 0.39310345 0.42758621 0.42758621 0.48275862 0.48275862\n",
            " 0.59310345 0.59310345 0.60689655 0.60689655 0.6137931  0.6137931\n",
            " 0.69655172 0.69655172 0.71034483 0.71034483 0.73793103 0.73793103\n",
            " 0.74482759 0.74482759 0.7862069  0.7862069  0.87586207 0.87586207\n",
            " 0.91034483 0.91034483 0.91724138 0.91724138 0.92413793 0.92413793\n",
            " 0.93103448 0.93103448 0.93793103 0.93793103 0.95862069 0.95862069\n",
            " 0.96551724 0.96551724 0.97241379 0.97241379 0.9862069  0.9862069\n",
            " 0.99310345 0.99310345 1.         1.        ]\n"
          ],
          "name": "stdout"
        }
      ]
    },
    {
      "cell_type": "code",
      "metadata": {
        "colab": {
          "base_uri": "https://localhost:8080/"
        },
        "id": "BpxHdrOXveGv",
        "outputId": "827c9842-6948-49b9-c57d-61e15c3bc77a"
      },
      "source": [
        "print(thresholds)"
      ],
      "execution_count": 26,
      "outputs": [
        {
          "output_type": "stream",
          "text": [
            "[1.91308317 0.91308317 0.91097282 0.88263597 0.88198541 0.87871403\n",
            " 0.87713404 0.87687878 0.84526906 0.84458452 0.83259486 0.83163945\n",
            " 0.83141451 0.8301579  0.8269141  0.82607112 0.82488101 0.82391878\n",
            " 0.81355232 0.81278113 0.80555799 0.80511127 0.80396408 0.80370876\n",
            " 0.80187216 0.80160685 0.80160205 0.80102801 0.79855776 0.79791745\n",
            " 0.7956727  0.79544724 0.79166025 0.79151652 0.7895894  0.78927713\n",
            " 0.78605156 0.7859993  0.78060196 0.78047135 0.78029791 0.77971774\n",
            " 0.76634571 0.76398638 0.76184677 0.75926607 0.74822358 0.7473835\n",
            " 0.74291746 0.74278884 0.73303642 0.73261771 0.71467441 0.71312815\n",
            " 0.66170849 0.37420806 0.35843036 0.35042222 0.34942654 0.34184549\n",
            " 0.34000921 0.32093942 0.31613087 0.31232109 0.30156036 0.298713\n",
            " 0.28436844 0.26957817 0.26862791 0.26325557 0.2617407  0.26079139\n",
            " 0.25485607 0.23641508 0.22805537 0.2089693 ]\n"
          ],
          "name": "stdout"
        }
      ]
    },
    {
      "cell_type": "code",
      "metadata": {
        "colab": {
          "base_uri": "https://localhost:8080/",
          "height": 329
        },
        "id": "1JEwgouCvfri",
        "outputId": "fbd0822a-1a5a-4dd6-d83b-b97600aef7ee"
      },
      "source": [
        "plt.figure()\r\n",
        "plt.plot(fpr,tpr)\r\n",
        "plt.plot([0,1],[0,1],'r--')\r\n",
        "plt.xlim([0.0,1.0])\r\n",
        "plt.ylim([0.0,1.0])\r\n",
        "plt.xlabel('fpr')\r\n",
        "plt.ylabel('tpr')\r\n",
        "plt.title('Error Analysis')\r\n",
        "plt.legend(loc='lower right')"
      ],
      "execution_count": 27,
      "outputs": [
        {
          "output_type": "stream",
          "text": [
            "No handles with labels found to put in legend.\n"
          ],
          "name": "stderr"
        },
        {
          "output_type": "execute_result",
          "data": {
            "text/plain": [
              "<matplotlib.legend.Legend at 0x7fd8c06c9ef0>"
            ]
          },
          "metadata": {
            "tags": []
          },
          "execution_count": 27
        },
        {
          "output_type": "display_data",
          "data": {
            "image/png": "[encoded data removed]",
            "text/plain": [
              "<Figure size 432x288 with 1 Axes>"
            ]
          },
          "metadata": {
            "tags": [],
            "needs_background": "light"
          }
        }
      ]
    },
    {
      "cell_type": "code",
      "metadata": {
        "id": "H1VXxkGpvi9M"
      },
      "source": [
        ""
      ],
      "execution_count": null,
      "outputs": []
    }
  ]
}